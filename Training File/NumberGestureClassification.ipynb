{
 "cells": [
  {
   "cell_type": "code",
   "execution_count": 1,
   "id": "cd420594",
   "metadata": {},
   "outputs": [],
   "source": [
    "from keras.preprocessing.image import ImageDataGenerator"
   ]
  },
  {
   "cell_type": "code",
   "execution_count": 2,
   "id": "988285fd",
   "metadata": {},
   "outputs": [],
   "source": [
    "train_datagen=ImageDataGenerator(rescale=1./255,shear_range=0.2,zoom_range=0.2,horizontal_flip=True)"
   ]
  },
  {
   "cell_type": "code",
   "execution_count": 3,
   "id": "d4adacf3",
   "metadata": {},
   "outputs": [],
   "source": [
    "test_datagen=ImageDataGenerator(rescale=1./255)"
   ]
  },
  {
   "cell_type": "code",
   "execution_count": 4,
   "id": "d75db15b",
   "metadata": {},
   "outputs": [
    {
     "name": "stdout",
     "output_type": "stream",
     "text": [
      "Found 594 images belonging to 6 classes.\n"
     ]
    }
   ],
   "source": [
    "x_train=train_datagen.flow_from_directory('E:/Project/Dataset/train',\n",
    "                                          target_size=(64,64),\n",
    "                                          batch_size=5,\n",
    "                                          color_mode='grayscale',\n",
    "                                          class_mode='categorical')"
   ]
  },
  {
   "cell_type": "code",
   "execution_count": 5,
   "id": "4b013714",
   "metadata": {},
   "outputs": [
    {
     "name": "stdout",
     "output_type": "stream",
     "text": [
      "Found 30 images belonging to 6 classes.\n"
     ]
    }
   ],
   "source": [
    "x_test=test_datagen.flow_from_directory('E:/Project/Dataset/test',\n",
    "                                        target_size=(64,64),\n",
    "                                        batch_size=5,\n",
    "                                        color_mode='grayscale',\n",
    "                                        class_mode='categorical')"
   ]
  },
  {
   "cell_type": "code",
   "execution_count": 6,
   "id": "b7ad7949",
   "metadata": {},
   "outputs": [],
   "source": [
    "import numpy as np"
   ]
  },
  {
   "cell_type": "code",
   "execution_count": 7,
   "id": "a148c65a",
   "metadata": {},
   "outputs": [],
   "source": [
    "import tensorflow"
   ]
  },
  {
   "cell_type": "code",
   "execution_count": 8,
   "id": "d3c8f355",
   "metadata": {},
   "outputs": [],
   "source": [
    "from tensorflow.keras.models import Sequential"
   ]
  },
  {
   "cell_type": "code",
   "execution_count": 9,
   "id": "1199e71e",
   "metadata": {},
   "outputs": [],
   "source": [
    "from tensorflow.keras import layers"
   ]
  },
  {
   "cell_type": "code",
   "execution_count": 10,
   "id": "8482ae09",
   "metadata": {},
   "outputs": [],
   "source": [
    "from tensorflow.keras.layers import Dense,Flatten"
   ]
  },
  {
   "cell_type": "code",
   "execution_count": 11,
   "id": "4cef2346",
   "metadata": {},
   "outputs": [],
   "source": [
    "from tensorflow.keras.layers import Conv2D,MaxPooling2D"
   ]
  },
  {
   "cell_type": "code",
   "execution_count": 12,
   "id": "a83df7bd",
   "metadata": {},
   "outputs": [],
   "source": [
    "from keras.preprocessing.image import ImageDataGenerator"
   ]
  },
  {
   "cell_type": "code",
   "execution_count": 13,
   "id": "5a25d181",
   "metadata": {},
   "outputs": [],
   "source": [
    "model=Sequential()"
   ]
  },
  {
   "cell_type": "code",
   "execution_count": 14,
   "id": "282a7c40",
   "metadata": {},
   "outputs": [],
   "source": [
    "model.add(Conv2D(32,(3,3),input_shape=(64,64,1),activation='relu'))"
   ]
  },
  {
   "cell_type": "code",
   "execution_count": 15,
   "id": "fb284761",
   "metadata": {},
   "outputs": [],
   "source": [
    "model.add(MaxPooling2D(pool_size=(2,2)))"
   ]
  },
  {
   "cell_type": "code",
   "execution_count": 16,
   "id": "6fa35464",
   "metadata": {},
   "outputs": [],
   "source": [
    "model.add(Conv2D(32,(3,3),activation='relu'))"
   ]
  },
  {
   "cell_type": "code",
   "execution_count": 17,
   "id": "c46b0a06",
   "metadata": {},
   "outputs": [],
   "source": [
    "model.add(MaxPooling2D(pool_size=(2,2)))"
   ]
  },
  {
   "cell_type": "code",
   "execution_count": 18,
   "id": "4db0584a",
   "metadata": {},
   "outputs": [],
   "source": [
    "model.add(Flatten())"
   ]
  },
  {
   "cell_type": "code",
   "execution_count": 19,
   "id": "849c8f1a",
   "metadata": {},
   "outputs": [],
   "source": [
    "model.add(Dense(units=128,activation='relu'))"
   ]
  },
  {
   "cell_type": "code",
   "execution_count": 20,
   "id": "3d2d4570",
   "metadata": {},
   "outputs": [],
   "source": [
    "model.add(Dense(units=6,activation='softmax'))"
   ]
  },
  {
   "cell_type": "code",
   "execution_count": 21,
   "id": "8a0b8e32",
   "metadata": {},
   "outputs": [
    {
     "name": "stdout",
     "output_type": "stream",
     "text": [
      "Model: \"sequential\"\n",
      "_________________________________________________________________\n",
      " Layer (type)                Output Shape              Param #   \n",
      "=================================================================\n",
      " conv2d (Conv2D)             (None, 62, 62, 32)        320       \n",
      "                                                                 \n",
      " max_pooling2d (MaxPooling2D  (None, 31, 31, 32)       0         \n",
      " )                                                               \n",
      "                                                                 \n",
      " conv2d_1 (Conv2D)           (None, 29, 29, 32)        9248      \n",
      "                                                                 \n",
      " max_pooling2d_1 (MaxPooling  (None, 14, 14, 32)       0         \n",
      " 2D)                                                             \n",
      "                                                                 \n",
      " flatten (Flatten)           (None, 6272)              0         \n",
      "                                                                 \n",
      " dense (Dense)               (None, 128)               802944    \n",
      "                                                                 \n",
      " dense_1 (Dense)             (None, 6)                 774       \n",
      "                                                                 \n",
      "=================================================================\n",
      "Total params: 813,286\n",
      "Trainable params: 813,286\n",
      "Non-trainable params: 0\n",
      "_________________________________________________________________\n"
     ]
    }
   ],
   "source": [
    "model.summary()"
   ]
  },
  {
   "cell_type": "code",
   "execution_count": 22,
   "id": "b375fc7a",
   "metadata": {},
   "outputs": [],
   "source": [
    "model.compile(optimizer='adam',loss='categorical_crossentropy',metrics=['accuracy'])"
   ]
  },
  {
   "cell_type": "code",
   "execution_count": 23,
   "id": "909e127f",
   "metadata": {},
   "outputs": [
    {
     "name": "stderr",
     "output_type": "stream",
     "text": [
      "C:\\Users\\hp\\AppData\\Local\\Temp\\ipykernel_11028\\1772156357.py:1: UserWarning: `Model.fit_generator` is deprecated and will be removed in a future version. Please use `Model.fit`, which supports generators.\n",
      "  model.fit_generator(\n"
     ]
    },
    {
     "name": "stdout",
     "output_type": "stream",
     "text": [
      "Epoch 1/20\n",
      "119/119 [==============================] - 11s 75ms/step - loss: 1.4985 - accuracy: 0.3822 - val_loss: 0.7694 - val_accuracy: 0.6667\n",
      "Epoch 2/20\n",
      "119/119 [==============================] - 5s 38ms/step - loss: 0.7243 - accuracy: 0.7273 - val_loss: 0.4446 - val_accuracy: 0.8000\n",
      "Epoch 3/20\n",
      "119/119 [==============================] - 5s 40ms/step - loss: 0.4782 - accuracy: 0.7929 - val_loss: 0.4610 - val_accuracy: 0.8333\n",
      "Epoch 4/20\n",
      "119/119 [==============================] - 5s 38ms/step - loss: 0.3760 - accuracy: 0.8502 - val_loss: 0.3687 - val_accuracy: 0.9000\n",
      "Epoch 5/20\n",
      "119/119 [==============================] - 5s 43ms/step - loss: 0.2832 - accuracy: 0.8956 - val_loss: 0.2807 - val_accuracy: 0.9333\n",
      "Epoch 6/20\n",
      "119/119 [==============================] - 5s 38ms/step - loss: 0.2168 - accuracy: 0.9175 - val_loss: 0.2526 - val_accuracy: 0.9667\n",
      "Epoch 7/20\n",
      "119/119 [==============================] - 5s 39ms/step - loss: 0.1721 - accuracy: 0.9545 - val_loss: 0.2674 - val_accuracy: 0.9667\n",
      "Epoch 8/20\n",
      "119/119 [==============================] - 4s 37ms/step - loss: 0.1308 - accuracy: 0.9562 - val_loss: 0.2527 - val_accuracy: 0.9667\n",
      "Epoch 9/20\n",
      "119/119 [==============================] - 4s 36ms/step - loss: 0.0908 - accuracy: 0.9781 - val_loss: 0.3998 - val_accuracy: 0.9000\n",
      "Epoch 10/20\n",
      "119/119 [==============================] - 4s 36ms/step - loss: 0.1310 - accuracy: 0.9495 - val_loss: 0.1359 - val_accuracy: 0.9667\n",
      "Epoch 11/20\n",
      "119/119 [==============================] - 4s 36ms/step - loss: 0.0714 - accuracy: 0.9798 - val_loss: 0.3001 - val_accuracy: 0.9333\n",
      "Epoch 12/20\n",
      "119/119 [==============================] - 5s 39ms/step - loss: 0.0520 - accuracy: 0.9832 - val_loss: 0.1917 - val_accuracy: 0.9667\n",
      "Epoch 13/20\n",
      "119/119 [==============================] - 5s 38ms/step - loss: 0.0987 - accuracy: 0.9680 - val_loss: 0.1649 - val_accuracy: 0.9667\n",
      "Epoch 14/20\n",
      "119/119 [==============================] - 4s 36ms/step - loss: 0.0436 - accuracy: 0.9882 - val_loss: 0.2939 - val_accuracy: 0.9333\n",
      "Epoch 15/20\n",
      "119/119 [==============================] - 4s 36ms/step - loss: 0.0545 - accuracy: 0.9815 - val_loss: 0.1909 - val_accuracy: 0.9333\n",
      "Epoch 16/20\n",
      "119/119 [==============================] - 4s 37ms/step - loss: 0.0585 - accuracy: 0.9882 - val_loss: 0.2609 - val_accuracy: 0.9667\n",
      "Epoch 17/20\n",
      "119/119 [==============================] - 4s 36ms/step - loss: 0.0678 - accuracy: 0.9731 - val_loss: 0.1253 - val_accuracy: 0.9667\n",
      "Epoch 18/20\n",
      "119/119 [==============================] - 4s 37ms/step - loss: 0.0203 - accuracy: 0.9966 - val_loss: 0.2442 - val_accuracy: 0.9667\n",
      "Epoch 19/20\n",
      "119/119 [==============================] - 5s 38ms/step - loss: 0.0240 - accuracy: 0.9949 - val_loss: 0.1423 - val_accuracy: 0.9667\n",
      "Epoch 20/20\n",
      "119/119 [==============================] - 5s 39ms/step - loss: 0.0363 - accuracy: 0.9933 - val_loss: 0.2549 - val_accuracy: 0.9667\n"
     ]
    },
    {
     "data": {
      "text/plain": [
       "<keras.callbacks.History at 0x19b9bce62e0>"
      ]
     },
     "execution_count": 23,
     "metadata": {},
     "output_type": "execute_result"
    }
   ],
   "source": [
    "model.fit_generator(\n",
    "    generator=x_train,steps_per_epoch=len(x_train),\n",
    "    epochs=20,validation_data=x_test,validation_steps=len(x_test))"
   ]
  },
  {
   "cell_type": "code",
   "execution_count": 24,
   "id": "86be639e",
   "metadata": {},
   "outputs": [],
   "source": [
    "model.save('gesture.h5')"
   ]
  },
  {
   "cell_type": "code",
   "execution_count": 25,
   "id": "c10abb7e",
   "metadata": {},
   "outputs": [],
   "source": [
    "model_json=model.to_json()\n",
    "with open(\"model-bw.json\",\"w\")as json_file:\n",
    "    json_file.write(model_json)"
   ]
  },
  {
   "cell_type": "code",
   "execution_count": 26,
   "id": "ba57374f",
   "metadata": {},
   "outputs": [],
   "source": [
    "from tensorflow.keras.models import load_model"
   ]
  },
  {
   "cell_type": "code",
   "execution_count": 27,
   "id": "f4314a76",
   "metadata": {},
   "outputs": [],
   "source": [
    "from tensorflow.keras.preprocessing import image \n",
    "from tensorflow.keras.applications.inception_v3 import preprocess_input\n",
    "model=load_model(\"gesture.h5\")"
   ]
  },
  {
   "cell_type": "code",
   "execution_count": 28,
   "id": "9eee3af8",
   "metadata": {},
   "outputs": [
    {
     "name": "stderr",
     "output_type": "stream",
     "text": [
      "C:\\Users\\hp\\Anaconda3\\lib\\site-packages\\keras\\utils\\image_utils.py:409: UserWarning: grayscale is deprecated. Please use color_mode = \"grayscale\"\n",
      "  warnings.warn(\n"
     ]
    }
   ],
   "source": [
    "img=image.load_img(r\"E:/Project/Dataset/test/1/1.jpg\",grayscale=True,target_size=(64,64))"
   ]
  },
  {
   "cell_type": "code",
   "execution_count": 29,
   "id": "830ece2d",
   "metadata": {},
   "outputs": [],
   "source": [
    "x=image.img_to_array(img)"
   ]
  },
  {
   "cell_type": "code",
   "execution_count": 30,
   "id": "22a12832",
   "metadata": {},
   "outputs": [],
   "source": [
    "import numpy as np"
   ]
  },
  {
   "cell_type": "code",
   "execution_count": 31,
   "id": "e7076e53",
   "metadata": {},
   "outputs": [
    {
     "data": {
      "text/plain": [
       "(1, 64, 64, 1)"
      ]
     },
     "execution_count": 31,
     "metadata": {},
     "output_type": "execute_result"
    }
   ],
   "source": [
    "x=np.expand_dims(x,axis=0)\n",
    "img_data=preprocess_input(x)\n",
    "img_data.shape"
   ]
  },
  {
   "cell_type": "code",
   "execution_count": 32,
   "id": "716a0548",
   "metadata": {},
   "outputs": [
    {
     "name": "stdout",
     "output_type": "stream",
     "text": [
      "1/1 [==============================] - 0s 280ms/step\n"
     ]
    }
   ],
   "source": [
    "pred=np.argmax(model.predict(x))\n"
   ]
  },
  {
   "cell_type": "code",
   "execution_count": 33,
   "id": "d00207ac",
   "metadata": {},
   "outputs": [
    {
     "data": {
      "text/plain": [
       "3"
      ]
     },
     "execution_count": 33,
     "metadata": {},
     "output_type": "execute_result"
    }
   ],
   "source": [
    "pred"
   ]
  },
  {
   "cell_type": "code",
   "execution_count": 34,
   "id": "57687b91",
   "metadata": {},
   "outputs": [
    {
     "name": "stdout",
     "output_type": "stream",
     "text": [
      "1/1 [==============================] - 0s 36ms/step\n"
     ]
    },
    {
     "data": {
      "text/plain": [
       "array([[1.0671585e-03, 1.3191059e-03, 3.4556836e-03, 9.9415118e-01,\n",
       "        4.1927308e-08, 6.7557216e-06]], dtype=float32)"
      ]
     },
     "execution_count": 34,
     "metadata": {},
     "output_type": "execute_result"
    }
   ],
   "source": [
    "model.predict(x)"
   ]
  },
  {
   "cell_type": "code",
   "execution_count": null,
   "id": "28228b30",
   "metadata": {},
   "outputs": [],
   "source": []
  },
  {
   "cell_type": "code",
   "execution_count": null,
   "id": "df729eda",
   "metadata": {},
   "outputs": [],
   "source": []
  },
  {
   "cell_type": "code",
   "execution_count": null,
   "id": "248387e9",
   "metadata": {},
   "outputs": [],
   "source": []
  },
  {
   "cell_type": "code",
   "execution_count": null,
   "id": "4e712b99",
   "metadata": {},
   "outputs": [],
   "source": []
  }
 ],
 "metadata": {
  "kernelspec": {
   "display_name": "Python 3 (ipykernel)",
   "language": "python",
   "name": "python3"
  },
  "language_info": {
   "codemirror_mode": {
    "name": "ipython",
    "version": 3
   },
   "file_extension": ".py",
   "mimetype": "text/x-python",
   "name": "python",
   "nbconvert_exporter": "python",
   "pygments_lexer": "ipython3",
   "version": "3.9.12"
  }
 },
 "nbformat": 4,
 "nbformat_minor": 5
}
